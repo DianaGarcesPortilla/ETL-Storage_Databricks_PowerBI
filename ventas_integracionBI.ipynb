{
 "cells": [
  {
   "cell_type": "markdown",
   "metadata": {
    "application/vnd.databricks.v1+cell": {
     "cellMetadata": {},
     "inputWidgets": {},
     "nuid": "8928cdb6-8327-4a8d-8d50-dba723cfc566",
     "showTitle": false,
     "tableResultSettingsMap": {},
     "title": ""
    }
   },
   "source": [
    "### **ETL: Pipeline desde Azure Blob Storage, tranformación en Databricks y conexión con Power BI**\n",
    "### "
   ]
  },
  {
   "cell_type": "markdown",
   "metadata": {
    "application/vnd.databricks.v1+cell": {
     "cellMetadata": {},
     "inputWidgets": {},
     "nuid": "c3f94db8-9a10-4978-8ac0-827cb29d1951",
     "showTitle": false,
     "tableResultSettingsMap": {},
     "title": ""
    }
   },
   "source": [
    "**I. Leer archivo desde Azure Blob Storage en Databricks**"
   ]
  },
  {
   "cell_type": "markdown",
   "metadata": {
    "application/vnd.databricks.v1+cell": {
     "cellMetadata": {},
     "inputWidgets": {},
     "nuid": "e845741b-8da6-43b4-ba2b-845c0ed2a76c",
     "showTitle": false,
     "tableResultSettingsMap": {},
     "title": ""
    }
   },
   "source": [
    "Conectar databricks con la cuenta de almacenamiento. Se hace uso de [Key value de Azure](https://learn.microsoft.com/es-es/azure/key-vault/general/basic-concepts) para no ingresar\n",
    "la clave almacenamiento en el código."
   ]
  },
  {
   "cell_type": "code",
   "execution_count": 0,
   "metadata": {
    "application/vnd.databricks.v1+cell": {
     "cellMetadata": {
      "byteLimit": 2048000,
      "rowLimit": 10000
     },
     "inputWidgets": {},
     "nuid": "9fe01d10-7af9-4901-ae99-b89b5e68dbca",
     "showTitle": false,
     "tableResultSettingsMap": {},
     "title": ""
    }
   },
   "outputs": [],
   "source": [
    "spark.conf.set(\n",
    "  \"fs.azure.account.key.storagedc1.blob.core.windows.net\",\n",
    "  dbutils.secrets.get(scope = \"kv-scope\", key = \"storage-key\")\n",
    ")"
   ]
  },
  {
   "cell_type": "markdown",
   "metadata": {
    "application/vnd.databricks.v1+cell": {
     "cellMetadata": {},
     "inputWidgets": {},
     "nuid": "086ce890-2bdf-4c7c-bb8b-cefb2259998d",
     "showTitle": false,
     "tableResultSettingsMap": {},
     "title": ""
    }
   },
   "source": [
    "Leer desde el contenedor de Blob Storage el archivo ventas csv"
   ]
  },
  {
   "cell_type": "code",
   "execution_count": 0,
   "metadata": {
    "application/vnd.databricks.v1+cell": {
     "cellMetadata": {
      "byteLimit": 2048000,
      "rowLimit": 10000
     },
     "inputWidgets": {},
     "nuid": "e8f0931e-e5a4-4eda-ac8a-f886f6a67598",
     "showTitle": false,
     "tableResultSettingsMap": {},
     "title": ""
    }
   },
   "outputs": [
    {
     "output_type": "display_data",
     "data": {
      "text/html": [
       "<style scoped>\n",
       "  .table-result-container {\n",
       "    max-height: 300px;\n",
       "    overflow: auto;\n",
       "  }\n",
       "  table, th, td {\n",
       "    border: 1px solid black;\n",
       "    border-collapse: collapse;\n",
       "  }\n",
       "  th, td {\n",
       "    padding: 5px;\n",
       "  }\n",
       "  th {\n",
       "    text-align: left;\n",
       "  }\n",
       "</style><div class='table-result-container'><table class='table-result'><thead style='background-color: white'><tr><th>id</th><th>id_producto</th><th>categoria_producto</th><th>nombre_producto</th><th>precio_producto</th><th>id_factura</th><th>cantidad</th><th>total</th><th>metodo_pago</th><th>fecha_factura</th><th>id_cliente</th><th>ciudad</th><th>gastos_marketing_og</th></tr></thead><tbody><tr><td>1</td><td>101000001</td><td>Animales</td><td>Bolsa diseño rana</td><td>50000</td><td>20230000005</td><td>10</td><td>500000</td><td>Tarjeta debito</td><td>20230110</td><td>1000004</td><td>Bucaramanga</td><td>64865</td></tr><tr><td>2</td><td>101000001</td><td>Animales</td><td>Bolsa diseño rana</td><td>50000</td><td>20230000007</td><td>20</td><td>1000000</td><td>Tarjeta debito</td><td>20230112</td><td>1000006</td><td>Bogotá</td><td>116667</td></tr><tr><td>3</td><td>104000003</td><td>Flora-Paisajes</td><td>Bolsa diseño roja</td><td>50000</td><td>20230000002</td><td>8</td><td>400000</td><td>Tarjeta credito</td><td>20230105</td><td>1000001</td><td>Bucaramanga</td><td>51892</td></tr><tr><td>4</td><td>101000002</td><td>Animales</td><td>Bolsa diseño orangutanes</td><td>50000</td><td>20230000013</td><td>9</td><td>450000</td><td>Tarjeta credito</td><td>20230120</td><td>1000012</td><td>Cali</td><td>56000</td></tr><tr><td>5</td><td>101000001</td><td>Animales</td><td>Bolsa diseño rana</td><td>50000</td><td>20230000001</td><td>15</td><td>750000</td><td>Tarjeta credito</td><td>20230101</td><td>1000002</td><td>Bucaramanga</td><td>97297</td></tr><tr><td>6</td><td>101000002</td><td>Animales</td><td>Bolsa diseño orangutanes</td><td>50000</td><td>20230000012</td><td>7</td><td>350000</td><td>Tarjeta credito</td><td>20230118</td><td>1000011</td><td>Cali</td><td>43556</td></tr><tr><td>7</td><td>101000001</td><td>Animales</td><td>Bolsa diseño rana</td><td>50000</td><td>20230000008</td><td>20</td><td>1000000</td><td>Tarjeta credito</td><td>20230113</td><td>1000007</td><td>Bogotá</td><td>116667</td></tr><tr><td>8</td><td>106000001</td><td>Musica</td><td>Bolsa diseño bateria</td><td>50000</td><td>20230000003</td><td>4</td><td>200000</td><td>Tarjeta debito</td><td>20230106</td><td>1000003</td><td>Bucaramanga</td><td>25946</td></tr><tr><td>9</td><td>102000001</td><td>Danza</td><td>Bolsa diseño classics</td><td>50000</td><td>20230000016</td><td>6</td><td>300000</td><td>Tarjeta debito</td><td>20230123</td><td>1000004</td><td>Cali</td><td>37333</td></tr><tr><td>10</td><td>101000003</td><td>Animales</td><td>Bolsa diseño serpiente</td><td>50000</td><td>20230000015</td><td>25</td><td>1250000</td><td>Tarjeta credito</td><td>20230122</td><td>1000014</td><td>Cali</td><td>155556</td></tr><tr><td>11</td><td>101000002</td><td>Animales</td><td>Bolsa diseño orangutanes</td><td>50000</td><td>20230000011</td><td>13</td><td>650000</td><td>Tarjeta debito</td><td>20230117</td><td>1000010</td><td>Bogotá</td><td>75833</td></tr><tr><td>12</td><td>101000001</td><td>Animales</td><td>Bolsa diseño rana</td><td>50000</td><td>20230000009</td><td>20</td><td>1000000</td><td>Tarjeta credito</td><td>20230114</td><td>1000008</td><td>Bogotá</td><td>116667</td></tr><tr><td>13</td><td>106000002</td><td>Musica</td><td>Bolsa diseño guitarras</td><td>50000</td><td>20230000003</td><td>5</td><td>250000</td><td>Tarjeta debito</td><td>20230107</td><td>1000003</td><td>Bucaramanga</td><td>32432</td></tr><tr><td>14</td><td>103000001</td><td>Deportes</td><td>Bolsa diseño swin</td><td>50000</td><td>20230000001</td><td>4</td><td>200000</td><td>Tarjeta credito</td><td>20230103</td><td>1000002</td><td>Bucaramanga</td><td>25946</td></tr><tr><td>15</td><td>102000001</td><td>Danza</td><td>Bolsa diseño classics</td><td>50000</td><td>20230000017</td><td>6</td><td>300000</td><td>Tarjeta debito</td><td>20230125</td><td>1000015</td><td>Cali</td><td>37333</td></tr><tr><td>16</td><td>102000001</td><td>Danza</td><td>Bolsa diseño classics</td><td>50000</td><td>20230000018</td><td>28</td><td>1400000</td><td>Tarjeta debito</td><td>20230127</td><td>1000016</td><td>Cali</td><td>174222</td></tr><tr><td>17</td><td>101000001</td><td>Animales</td><td>Bolsa diseño rana</td><td>50000</td><td>20230000004</td><td>18</td><td>900000</td><td>Tarjeta debito</td><td>20230109</td><td>1000004</td><td>Bucaramanga</td><td>116757</td></tr><tr><td>18</td><td>101000001</td><td>Animales</td><td>Bolsa diseño rana</td><td>50000</td><td>20230000006</td><td>3</td><td>150000</td><td>Tarjeta debito</td><td>20230111</td><td>1000005</td><td>Bogotá</td><td>17500</td></tr><tr><td>19</td><td>101000001</td><td>Animales</td><td>Bolsa diseño rana</td><td>50000</td><td>20230000010</td><td>20</td><td>1000000</td><td>Tarjeta debito</td><td>20230116</td><td>1000009</td><td>Bogotá</td><td>116667</td></tr><tr><td>20</td><td>101000002</td><td>Animales</td><td>Bolsa diseño orangutanes</td><td>50000</td><td>20230000002</td><td>10</td><td>500000</td><td>Tarjeta credito</td><td>20230104</td><td>1000001</td><td>Bucaramanga</td><td>64865</td></tr><tr><td>21</td><td>101000003</td><td>Animales</td><td>Bolsa diseño serpiente</td><td>50000</td><td>20230000014</td><td>9</td><td>450000</td><td>Tarjeta credito</td><td>20230121</td><td>1000013</td><td>Cali</td><td>56000</td></tr><tr><td>22</td><td>104000001</td><td>Flora-Paisajes</td><td>Bolsa diseño florero</td><td>50000</td><td>20230000024</td><td>13</td><td>650000</td><td>Tarjeta debito</td><td>20230212</td><td>1000021</td><td>Bogotá</td><td>48319</td></tr><tr><td>23</td><td>104000003</td><td>Flora-Paisajes</td><td>Bolsa diseño roja</td><td>50000</td><td>20230000031</td><td>16</td><td>800000</td><td>Tarjeta debito</td><td>20230223</td><td>1000028</td><td>Cali</td><td>224000</td></tr><tr><td>24</td><td>104000001</td><td>Flora-Paisajes</td><td>Bolsa diseño florero</td><td>50000</td><td>20230000021</td><td>9</td><td>450000</td><td>Tarjeta debito</td><td>20230204</td><td>1000004</td><td>Bucaramanga</td><td>98182</td></tr><tr><td>25</td><td>104000003</td><td>Flora-Paisajes</td><td>Bolsa diseño roja</td><td>50000</td><td>20230000032</td><td>5</td><td>250000</td><td>Tarjeta debito</td><td>20230225</td><td>1000029</td><td>Cali</td><td>70000</td></tr><tr><td>26</td><td>104000001</td><td>Flora-Paisajes</td><td>Bolsa diseño florero</td><td>50000</td><td>20230000023</td><td>6</td><td>300000</td><td>Tarjeta debito</td><td>20230209</td><td>1000020</td><td>Bucaramanga</td><td>65455</td></tr><tr><td>27</td><td>104000002</td><td>Flora-Paisajes</td><td>Bolsa diseño sunshine</td><td>50000</td><td>20230000030</td><td>4</td><td>200000</td><td>Tarjeta debito</td><td>20230222</td><td>1000027</td><td>Cali</td><td>56000</td></tr><tr><td>28</td><td>103000002</td><td>Deportes</td><td>Bolsa diseño basket</td><td>50000</td><td>20230000020</td><td>3</td><td>150000</td><td>Tarjeta debito</td><td>20230203</td><td>1000018</td><td>Bucaramanga</td><td>32727</td></tr><tr><td>29</td><td>104000002</td><td>Flora-Paisajes</td><td>Bolsa diseño sunshine</td><td>50000</td><td>20230000028</td><td>10</td><td>500000</td><td>Tarjeta debito</td><td>20230218</td><td>1000025</td><td>Bogotá</td><td>37168</td></tr><tr><td>30</td><td>104000003</td><td>Flora-Paisajes</td><td>Bolsa diseño roja</td><td>50000</td><td>20230000033</td><td>2</td><td>100000</td><td>Tarjeta debito</td><td>20230226</td><td>1000030</td><td>Cali</td><td>28000</td></tr><tr><td>31</td><td>104000001</td><td>Flora-Paisajes</td><td>Bolsa diseño florero</td><td>50000</td><td>20230000022</td><td>10</td><td>500000</td><td>Tarjeta debito</td><td>20230205</td><td>1000019</td><td>Bucaramanga</td><td>109091</td></tr><tr><td>32</td><td>102000002</td><td>Danza</td><td>Bolsa diseño bailamos</td><td>50000</td><td>20230000019</td><td>5</td><td>250000</td><td>Tarjeta debito</td><td>20230201</td><td>1000017</td><td>Bucaramanga</td><td>54545</td></tr><tr><td>33</td><td>104000001</td><td>Flora-Paisajes</td><td>Bolsa diseño florero</td><td>50000</td><td>20230000025</td><td>34</td><td>1700000</td><td>Tarjeta debito</td><td>20230213</td><td>1000022</td><td>Bogotá</td><td>126372</td></tr><tr><td>34</td><td>104000001</td><td>Flora-Paisajes</td><td>Bolsa diseño florero</td><td>50000</td><td>20230000026</td><td>8</td><td>400000</td><td>Tarjeta debito</td><td>20230216</td><td>1000023</td><td>Bogotá</td><td>29735</td></tr><tr><td>35</td><td>104000002</td><td>Flora-Paisajes</td><td>Bolsa diseño sunshine</td><td>50000</td><td>20230000029</td><td>3</td><td>150000</td><td>Tarjeta debito</td><td>20230219</td><td>1000026</td><td>Cali</td><td>42000</td></tr><tr><td>36</td><td>104000002</td><td>Flora-Paisajes</td><td>Bolsa diseño sunshine</td><td>50000</td><td>20230000027</td><td>48</td><td>2400000</td><td>Tarjeta debito</td><td>20230217</td><td>1000024</td><td>Bogotá</td><td>178407</td></tr><tr><td>37</td><td>105000001</td><td>Letras-Numeros</td><td>Bolsa diseño caracolas</td><td>50000</td><td>20230000041</td><td>8</td><td>400000</td><td>Tarjeta credito</td><td>20230312</td><td>1000038</td><td>Bucaramanga</td><td>22857</td></tr><tr><td>38</td><td>106000002</td><td>Musica</td><td>Bolsa diseño guitarras</td><td>50000</td><td>20230000050</td><td>12</td><td>600000</td><td>Tarjeta credito</td><td>20230323</td><td>1000047</td><td>Bucaramanga</td><td>34286</td></tr><tr><td>39</td><td>106000002</td><td>Musica</td><td>Bolsa diseño guitarras</td><td>50000</td><td>20230000049</td><td>5</td><td>250000</td><td>Tarjeta credito</td><td>20230322</td><td>1000046</td><td>Cali</td><td>20588</td></tr><tr><td>40</td><td>104000003</td><td>Flora-Paisajes</td><td>Bolsa diseño roja</td><td>50000</td><td>20230000035</td><td>17</td><td>850000</td><td>Tarjeta debito</td><td>20230303</td><td>1000032</td><td>Bucaramanga</td><td>48571</td></tr><tr><td>41</td><td>104000003</td><td>Flora-Paisajes</td><td>Bolsa diseño roja</td><td>50000</td><td>20230000055</td><td>22</td><td>1100000</td><td>Tarjeta credito</td><td>20230329</td><td>1000052</td><td>Cali</td><td>90588</td></tr><tr><td>42</td><td>106000002</td><td>Musica</td><td>Bolsa diseño guitarras</td><td>50000</td><td>20230000054</td><td>10</td><td>500000</td><td>Tarjeta credito</td><td>20230328</td><td>1000051</td><td>Cali</td><td>41176</td></tr><tr><td>43</td><td>106000002</td><td>Musica</td><td>Bolsa diseño guitarras</td><td>50000</td><td>20230000052</td><td>5</td><td>250000</td><td>Tarjeta credito</td><td>20230326</td><td>1000049</td><td>Cali</td><td>20588</td></tr><tr><td>44</td><td>106000002</td><td>Musica</td><td>Bolsa diseño guitarras</td><td>50000</td><td>20230000047</td><td>7</td><td>350000</td><td>Tarjeta credito</td><td>20230318</td><td>1000044</td><td>Bogotá</td><td>18284</td></tr><tr><td>45</td><td>106000002</td><td>Musica</td><td>Bolsa diseño guitarras</td><td>50000</td><td>20230000046</td><td>60</td><td>3000000</td><td>Tarjeta credito</td><td>20230317</td><td>1000043</td><td>Bogotá</td><td>156716</td></tr><tr><td>46</td><td>106000001</td><td>Musica</td><td>Bolsa diseño bateria</td><td>50000</td><td>20230000043</td><td>5</td><td>250000</td><td>Tarjeta credito</td><td>20230314</td><td>1000040</td><td>Bogotá</td><td>13060</td></tr><tr><td>47</td><td>106000002</td><td>Musica</td><td>Bolsa diseño guitarras</td><td>50000</td><td>20230000048</td><td>5</td><td>250000</td><td>Tarjeta credito</td><td>20230319</td><td>1000045</td><td>Bogotá</td><td>13060</td></tr><tr><td>48</td><td>104000003</td><td>Flora-Paisajes</td><td>Bolsa diseño roja</td><td>50000</td><td>20230000040</td><td>9</td><td>450000</td><td>Tarjeta credito</td><td>20230311</td><td>1000037</td><td>Bucaramanga</td><td>25714</td></tr><tr><td>49</td><td>106000002</td><td>Musica</td><td>Bolsa diseño guitarras</td><td>50000</td><td>20230000051</td><td>40</td><td>2000000</td><td>Tarjeta credito</td><td>20230325</td><td>1000048</td><td>Cali</td><td>164706</td></tr><tr><td>50</td><td>106000002</td><td>Musica</td><td>Bolsa diseño guitarras</td><td>50000</td><td>20230000053</td><td>3</td><td>150000</td><td>Tarjeta credito</td><td>20230327</td><td>1000050</td><td>Cali</td><td>12353</td></tr><tr><td>51</td><td>104000003</td><td>Flora-Paisajes</td><td>Bolsa diseño roja</td><td>50000</td><td>20230000034</td><td>16</td><td>800000</td><td>Tarjeta debito</td><td>20230301</td><td>1000031</td><td>Bucaramanga</td><td>45714</td></tr><tr><td>52</td><td>104000003</td><td>Flora-Paisajes</td><td>Bolsa diseño roja</td><td>50000</td><td>20230000039</td><td>2</td><td>100000</td><td>Tarjeta credito</td><td>20230310</td><td>1000036</td><td>Bucaramanga</td><td>5714</td></tr><tr><td>53</td><td>105000002</td><td>Letras-Numeros</td><td>Bolsa diseño epocas</td><td>50000</td><td>20230000042</td><td>8</td><td>400000</td><td>Tarjeta credito</td><td>20230313</td><td>1000039</td><td>Bucaramanga</td><td>22857</td></tr><tr><td>54</td><td>104000003</td><td>Flora-Paisajes</td><td>Bolsa diseño roja</td><td>50000</td><td>20230000037</td><td>17</td><td>850000</td><td>Tarjeta credito</td><td>20230305</td><td>1000034</td><td>Bucaramanga</td><td>48571</td></tr><tr><td>55</td><td>106000001</td><td>Musica</td><td>Bolsa diseño bateria</td><td>50000</td><td>20230000044</td><td>50</td><td>2500000</td><td>Tarjeta credito</td><td>20230315</td><td>1000041</td><td>Bogotá</td><td>130597</td></tr><tr><td>56</td><td>106000001</td><td>Musica</td><td>Bolsa diseño bateria</td><td>50000</td><td>20230000045</td><td>7</td><td>350000</td><td>Tarjeta credito</td><td>20230316</td><td>1000042</td><td>Bogotá</td><td>18284</td></tr><tr><td>57</td><td>104000003</td><td>Flora-Paisajes</td><td>Bolsa diseño roja</td><td>50000</td><td>20230000036</td><td>10</td><td>500000</td><td>Tarjeta credito</td><td>20230304</td><td>1000033</td><td>Bucaramanga</td><td>28571</td></tr><tr><td>58</td><td>104000003</td><td>Flora-Paisajes</td><td>Bolsa diseño roja</td><td>50000</td><td>20230000038</td><td>6</td><td>300000</td><td>Tarjeta credito</td><td>20230309</td><td>1000035</td><td>Bucaramanga</td><td>17143</td></tr></tbody></table></div>"
      ]
     },
     "metadata": {
      "application/vnd.databricks.v1+output": {
       "addedWidgets": {},
       "aggData": [],
       "aggError": "",
       "aggOverflow": false,
       "aggSchema": [],
       "aggSeriesLimitReached": false,
       "aggType": "",
       "arguments": {},
       "columnCustomDisplayInfos": {},
       "data": [
        [
         1,
         101000001,
         "Animales",
         "Bolsa diseño rana",
         50000,
         20230000005,
         10,
         500000,
         "Tarjeta debito",
         20230110,
         1000004,
         "Bucaramanga",
         64865
        ],
        [
         2,
         101000001,
         "Animales",
         "Bolsa diseño rana",
         50000,
         20230000007,
         20,
         1000000,
         "Tarjeta debito",
         20230112,
         1000006,
         "Bogotá",
         116667
        ],
        [
         3,
         104000003,
         "Flora-Paisajes",
         "Bolsa diseño roja",
         50000,
         20230000002,
         8,
         400000,
         "Tarjeta credito",
         20230105,
         1000001,
         "Bucaramanga",
         51892
        ],
        [
         4,
         101000002,
         "Animales",
         "Bolsa diseño orangutanes",
         50000,
         20230000013,
         9,
         450000,
         "Tarjeta credito",
         20230120,
         1000012,
         "Cali",
         56000
        ],
        [
         5,
         101000001,
         "Animales",
         "Bolsa diseño rana",
         50000,
         20230000001,
         15,
         750000,
         "Tarjeta credito",
         20230101,
         1000002,
         "Bucaramanga",
         97297
        ],
        [
         6,
         101000002,
         "Animales",
         "Bolsa diseño orangutanes",
         50000,
         20230000012,
         7,
         350000,
         "Tarjeta credito",
         20230118,
         1000011,
         "Cali",
         43556
        ],
        [
         7,
         101000001,
         "Animales",
         "Bolsa diseño rana",
         50000,
         20230000008,
         20,
         1000000,
         "Tarjeta credito",
         20230113,
         1000007,
         "Bogotá",
         116667
        ],
        [
         8,
         106000001,
         "Musica",
         "Bolsa diseño bateria",
         50000,
         20230000003,
         4,
         200000,
         "Tarjeta debito",
         20230106,
         1000003,
         "Bucaramanga",
         25946
        ],
        [
         9,
         102000001,
         "Danza",
         "Bolsa diseño classics",
         50000,
         20230000016,
         6,
         300000,
         "Tarjeta debito",
         20230123,
         1000004,
         "Cali",
         37333
        ],
        [
         10,
         101000003,
         "Animales",
         "Bolsa diseño serpiente",
         50000,
         20230000015,
         25,
         1250000,
         "Tarjeta credito",
         20230122,
         1000014,
         "Cali",
         155556
        ],
        [
         11,
         101000002,
         "Animales",
         "Bolsa diseño orangutanes",
         50000,
         20230000011,
         13,
         650000,
         "Tarjeta debito",
         20230117,
         1000010,
         "Bogotá",
         75833
        ],
        [
         12,
         101000001,
         "Animales",
         "Bolsa diseño rana",
         50000,
         20230000009,
         20,
         1000000,
         "Tarjeta credito",
         20230114,
         1000008,
         "Bogotá",
         116667
        ],
        [
         13,
         106000002,
         "Musica",
         "Bolsa diseño guitarras",
         50000,
         20230000003,
         5,
         250000,
         "Tarjeta debito",
         20230107,
         1000003,
         "Bucaramanga",
         32432
        ],
        [
         14,
         103000001,
         "Deportes",
         "Bolsa diseño swin",
         50000,
         20230000001,
         4,
         200000,
         "Tarjeta credito",
         20230103,
         1000002,
         "Bucaramanga",
         25946
        ],
        [
         15,
         102000001,
         "Danza",
         "Bolsa diseño classics",
         50000,
         20230000017,
         6,
         300000,
         "Tarjeta debito",
         20230125,
         1000015,
         "Cali",
         37333
        ],
        [
         16,
         102000001,
         "Danza",
         "Bolsa diseño classics",
         50000,
         20230000018,
         28,
         1400000,
         "Tarjeta debito",
         20230127,
         1000016,
         "Cali",
         174222
        ],
        [
         17,
         101000001,
         "Animales",
         "Bolsa diseño rana",
         50000,
         20230000004,
         18,
         900000,
         "Tarjeta debito",
         20230109,
         1000004,
         "Bucaramanga",
         116757
        ],
        [
         18,
         101000001,
         "Animales",
         "Bolsa diseño rana",
         50000,
         20230000006,
         3,
         150000,
         "Tarjeta debito",
         20230111,
         1000005,
         "Bogotá",
         17500
        ],
        [
         19,
         101000001,
         "Animales",
         "Bolsa diseño rana",
         50000,
         20230000010,
         20,
         1000000,
         "Tarjeta debito",
         20230116,
         1000009,
         "Bogotá",
         116667
        ],
        [
         20,
         101000002,
         "Animales",
         "Bolsa diseño orangutanes",
         50000,
         20230000002,
         10,
         500000,
         "Tarjeta credito",
         20230104,
         1000001,
         "Bucaramanga",
         64865
        ],
        [
         21,
         101000003,
         "Animales",
         "Bolsa diseño serpiente",
         50000,
         20230000014,
         9,
         450000,
         "Tarjeta credito",
         20230121,
         1000013,
         "Cali",
         56000
        ],
        [
         22,
         104000001,
         "Flora-Paisajes",
         "Bolsa diseño florero",
         50000,
         20230000024,
         13,
         650000,
         "Tarjeta debito",
         20230212,
         1000021,
         "Bogotá",
         48319
        ],
        [
         23,
         104000003,
         "Flora-Paisajes",
         "Bolsa diseño roja",
         50000,
         20230000031,
         16,
         800000,
         "Tarjeta debito",
         20230223,
         1000028,
         "Cali",
         224000
        ],
        [
         24,
         104000001,
         "Flora-Paisajes",
         "Bolsa diseño florero",
         50000,
         20230000021,
         9,
         450000,
         "Tarjeta debito",
         20230204,
         1000004,
         "Bucaramanga",
         98182
        ],
        [
         25,
         104000003,
         "Flora-Paisajes",
         "Bolsa diseño roja",
         50000,
         20230000032,
         5,
         250000,
         "Tarjeta debito",
         20230225,
         1000029,
         "Cali",
         70000
        ],
        [
         26,
         104000001,
         "Flora-Paisajes",
         "Bolsa diseño florero",
         50000,
         20230000023,
         6,
         300000,
         "Tarjeta debito",
         20230209,
         1000020,
         "Bucaramanga",
         65455
        ],
        [
         27,
         104000002,
         "Flora-Paisajes",
         "Bolsa diseño sunshine",
         50000,
         20230000030,
         4,
         200000,
         "Tarjeta debito",
         20230222,
         1000027,
         "Cali",
         56000
        ],
        [
         28,
         103000002,
         "Deportes",
         "Bolsa diseño basket",
         50000,
         20230000020,
         3,
         150000,
         "Tarjeta debito",
         20230203,
         1000018,
         "Bucaramanga",
         32727
        ],
        [
         29,
         104000002,
         "Flora-Paisajes",
         "Bolsa diseño sunshine",
         50000,
         20230000028,
         10,
         500000,
         "Tarjeta debito",
         20230218,
         1000025,
         "Bogotá",
         37168
        ],
        [
         30,
         104000003,
         "Flora-Paisajes",
         "Bolsa diseño roja",
         50000,
         20230000033,
         2,
         100000,
         "Tarjeta debito",
         20230226,
         1000030,
         "Cali",
         28000
        ],
        [
         31,
         104000001,
         "Flora-Paisajes",
         "Bolsa diseño florero",
         50000,
         20230000022,
         10,
         500000,
         "Tarjeta debito",
         20230205,
         1000019,
         "Bucaramanga",
         109091
        ],
        [
         32,
         102000002,
         "Danza",
         "Bolsa diseño bailamos",
         50000,
         20230000019,
         5,
         250000,
         "Tarjeta debito",
         20230201,
         1000017,
         "Bucaramanga",
         54545
        ],
        [
         33,
         104000001,
         "Flora-Paisajes",
         "Bolsa diseño florero",
         50000,
         20230000025,
         34,
         1700000,
         "Tarjeta debito",
         20230213,
         1000022,
         "Bogotá",
         126372
        ],
        [
         34,
         104000001,
         "Flora-Paisajes",
         "Bolsa diseño florero",
         50000,
         20230000026,
         8,
         400000,
         "Tarjeta debito",
         20230216,
         1000023,
         "Bogotá",
         29735
        ],
        [
         35,
         104000002,
         "Flora-Paisajes",
         "Bolsa diseño sunshine",
         50000,
         20230000029,
         3,
         150000,
         "Tarjeta debito",
         20230219,
         1000026,
         "Cali",
         42000
        ],
        [
         36,
         104000002,
         "Flora-Paisajes",
         "Bolsa diseño sunshine",
         50000,
         20230000027,
         48,
         2400000,
         "Tarjeta debito",
         20230217,
         1000024,
         "Bogotá",
         178407
        ],
        [
         37,
         105000001,
         "Letras-Numeros",
         "Bolsa diseño caracolas",
         50000,
         20230000041,
         8,
         400000,
         "Tarjeta credito",
         20230312,
         1000038,
         "Bucaramanga",
         22857
        ],
        [
         38,
         106000002,
         "Musica",
         "Bolsa diseño guitarras",
         50000,
         20230000050,
         12,
         600000,
         "Tarjeta credito",
         20230323,
         1000047,
         "Bucaramanga",
         34286
        ],
        [
         39,
         106000002,
         "Musica",
         "Bolsa diseño guitarras",
         50000,
         20230000049,
         5,
         250000,
         "Tarjeta credito",
         20230322,
         1000046,
         "Cali",
         20588
        ],
        [
         40,
         104000003,
         "Flora-Paisajes",
         "Bolsa diseño roja",
         50000,
         20230000035,
         17,
         850000,
         "Tarjeta debito",
         20230303,
         1000032,
         "Bucaramanga",
         48571
        ],
        [
         41,
         104000003,
         "Flora-Paisajes",
         "Bolsa diseño roja",
         50000,
         20230000055,
         22,
         1100000,
         "Tarjeta credito",
         20230329,
         1000052,
         "Cali",
         90588
        ],
        [
         42,
         106000002,
         "Musica",
         "Bolsa diseño guitarras",
         50000,
         20230000054,
         10,
         500000,
         "Tarjeta credito",
         20230328,
         1000051,
         "Cali",
         41176
        ],
        [
         43,
         106000002,
         "Musica",
         "Bolsa diseño guitarras",
         50000,
         20230000052,
         5,
         250000,
         "Tarjeta credito",
         20230326,
         1000049,
         "Cali",
         20588
        ],
        [
         44,
         106000002,
         "Musica",
         "Bolsa diseño guitarras",
         50000,
         20230000047,
         7,
         350000,
         "Tarjeta credito",
         20230318,
         1000044,
         "Bogotá",
         18284
        ],
        [
         45,
         106000002,
         "Musica",
         "Bolsa diseño guitarras",
         50000,
         20230000046,
         60,
         3000000,
         "Tarjeta credito",
         20230317,
         1000043,
         "Bogotá",
         156716
        ],
        [
         46,
         106000001,
         "Musica",
         "Bolsa diseño bateria",
         50000,
         20230000043,
         5,
         250000,
         "Tarjeta credito",
         20230314,
         1000040,
         "Bogotá",
         13060
        ],
        [
         47,
         106000002,
         "Musica",
         "Bolsa diseño guitarras",
         50000,
         20230000048,
         5,
         250000,
         "Tarjeta credito",
         20230319,
         1000045,
         "Bogotá",
         13060
        ],
        [
         48,
         104000003,
         "Flora-Paisajes",
         "Bolsa diseño roja",
         50000,
         20230000040,
         9,
         450000,
         "Tarjeta credito",
         20230311,
         1000037,
         "Bucaramanga",
         25714
        ],
        [
         49,
         106000002,
         "Musica",
         "Bolsa diseño guitarras",
         50000,
         20230000051,
         40,
         2000000,
         "Tarjeta credito",
         20230325,
         1000048,
         "Cali",
         164706
        ],
        [
         50,
         106000002,
         "Musica",
         "Bolsa diseño guitarras",
         50000,
         20230000053,
         3,
         150000,
         "Tarjeta credito",
         20230327,
         1000050,
         "Cali",
         12353
        ],
        [
         51,
         104000003,
         "Flora-Paisajes",
         "Bolsa diseño roja",
         50000,
         20230000034,
         16,
         800000,
         "Tarjeta debito",
         20230301,
         1000031,
         "Bucaramanga",
         45714
        ],
        [
         52,
         104000003,
         "Flora-Paisajes",
         "Bolsa diseño roja",
         50000,
         20230000039,
         2,
         100000,
         "Tarjeta credito",
         20230310,
         1000036,
         "Bucaramanga",
         5714
        ],
        [
         53,
         105000002,
         "Letras-Numeros",
         "Bolsa diseño epocas",
         50000,
         20230000042,
         8,
         400000,
         "Tarjeta credito",
         20230313,
         1000039,
         "Bucaramanga",
         22857
        ],
        [
         54,
         104000003,
         "Flora-Paisajes",
         "Bolsa diseño roja",
         50000,
         20230000037,
         17,
         850000,
         "Tarjeta credito",
         20230305,
         1000034,
         "Bucaramanga",
         48571
        ],
        [
         55,
         106000001,
         "Musica",
         "Bolsa diseño bateria",
         50000,
         20230000044,
         50,
         2500000,
         "Tarjeta credito",
         20230315,
         1000041,
         "Bogotá",
         130597
        ],
        [
         56,
         106000001,
         "Musica",
         "Bolsa diseño bateria",
         50000,
         20230000045,
         7,
         350000,
         "Tarjeta credito",
         20230316,
         1000042,
         "Bogotá",
         18284
        ],
        [
         57,
         104000003,
         "Flora-Paisajes",
         "Bolsa diseño roja",
         50000,
         20230000036,
         10,
         500000,
         "Tarjeta credito",
         20230304,
         1000033,
         "Bucaramanga",
         28571
        ],
        [
         58,
         104000003,
         "Flora-Paisajes",
         "Bolsa diseño roja",
         50000,
         20230000038,
         6,
         300000,
         "Tarjeta credito",
         20230309,
         1000035,
         "Bucaramanga",
         17143
        ]
       ],
       "datasetInfos": [],
       "dbfsResultPath": null,
       "isJsonSchema": true,
       "metadata": {},
       "overflow": false,
       "plotOptions": {
        "customPlotOptions": {},
        "displayType": "table",
        "pivotAggregation": null,
        "pivotColumns": null,
        "xColumns": null,
        "yColumns": null
       },
       "removedWidgets": [],
       "schema": [
        {
         "metadata": "{}",
         "name": "id",
         "type": "\"integer\""
        },
        {
         "metadata": "{}",
         "name": "id_producto",
         "type": "\"integer\""
        },
        {
         "metadata": "{}",
         "name": "categoria_producto",
         "type": "\"string\""
        },
        {
         "metadata": "{}",
         "name": "nombre_producto",
         "type": "\"string\""
        },
        {
         "metadata": "{}",
         "name": "precio_producto",
         "type": "\"integer\""
        },
        {
         "metadata": "{}",
         "name": "id_factura",
         "type": "\"long\""
        },
        {
         "metadata": "{}",
         "name": "cantidad",
         "type": "\"integer\""
        },
        {
         "metadata": "{}",
         "name": "total",
         "type": "\"integer\""
        },
        {
         "metadata": "{}",
         "name": "metodo_pago",
         "type": "\"string\""
        },
        {
         "metadata": "{}",
         "name": "fecha_factura",
         "type": "\"integer\""
        },
        {
         "metadata": "{}",
         "name": "id_cliente",
         "type": "\"integer\""
        },
        {
         "metadata": "{}",
         "name": "ciudad",
         "type": "\"string\""
        },
        {
         "metadata": "{}",
         "name": "gastos_marketing_og",
         "type": "\"integer\""
        }
       ],
       "type": "table"
      }
     },
     "output_type": "display_data"
    }
   ],
   "source": [
    "\n",
    "df = spark.read.format(\"csv\")\\\n",
    "     .option(\"header\", \"true\")\\\n",
    "     .option(\"inferSchema\", \"true\") \\\n",
    "     .load(\"wasbs://dataempresarial@storagedc1.blob.core.windows.net/ventas/ventas.csv\")\n",
    "df.display()"
   ]
  },
  {
   "cell_type": "code",
   "execution_count": 0,
   "metadata": {
    "application/vnd.databricks.v1+cell": {
     "cellMetadata": {
      "byteLimit": 2048000,
      "rowLimit": 10000
     },
     "inputWidgets": {},
     "nuid": "be2c611c-3d43-44a7-8dca-d52601658afa",
     "showTitle": false,
     "tableResultSettingsMap": {},
     "title": ""
    }
   },
   "outputs": [
    {
     "output_type": "stream",
     "name": "stdout",
     "output_type": "stream",
     "text": [
      "root\n |-- id: integer (nullable = true)\n |-- id_producto: integer (nullable = true)\n |-- categoria_producto: string (nullable = true)\n |-- nombre_producto: string (nullable = true)\n |-- precio_producto: integer (nullable = true)\n |-- id_factura: long (nullable = true)\n |-- cantidad: integer (nullable = true)\n |-- total: integer (nullable = true)\n |-- metodo_pago: string (nullable = true)\n |-- fecha_factura: integer (nullable = true)\n |-- id_cliente: integer (nullable = true)\n |-- ciudad: string (nullable = true)\n |-- gastos_marketing_og: integer (nullable = true)\n\n"
     ]
    }
   ],
   "source": [
    "df.printSchema()"
   ]
  },
  {
   "cell_type": "markdown",
   "metadata": {
    "application/vnd.databricks.v1+cell": {
     "cellMetadata": {},
     "inputWidgets": {},
     "nuid": "c0b2ceec-0932-4773-ac01-e879f47275c6",
     "showTitle": false,
     "tableResultSettingsMap": {},
     "title": ""
    }
   },
   "source": [
    "**II. Transformar la base datos y registrarla como tabla delta lake en el metastore**"
   ]
  },
  {
   "cell_type": "markdown",
   "metadata": {
    "application/vnd.databricks.v1+cell": {
     "cellMetadata": {},
     "inputWidgets": {},
     "nuid": "823338e2-033b-481d-8491-8aff1664ee70",
     "showTitle": false,
     "tableResultSettingsMap": {},
     "title": ""
    }
   },
   "source": [
    "Guardar el df como una tabla Delta Lake. Esta acción permitirá realizar los cambios pertinentes a la tabla, llevar el control de los cambios mediante el registro de un historial y guardar la tabla en el metastore de Hive (catálogo de Databricks) para poder conectarla con la plataforma Power BI."
   ]
  },
  {
   "cell_type": "code",
   "execution_count": 0,
   "metadata": {
    "application/vnd.databricks.v1+cell": {
     "cellMetadata": {
      "byteLimit": 2048000,
      "rowLimit": 10000
     },
     "inputWidgets": {},
     "nuid": "551e31da-6ca8-4f0a-a5b5-45a84ac5af61",
     "showTitle": false,
     "tableResultSettingsMap": {},
     "title": ""
    }
   },
   "outputs": [],
   "source": [
    "df.write.format(\"delta\").mode(\"overwrite\").save(\"/mnt/delta/ventas\")"
   ]
  },
  {
   "cell_type": "code",
   "execution_count": 0,
   "metadata": {
    "application/vnd.databricks.v1+cell": {
     "cellMetadata": {
      "byteLimit": 2048000,
      "rowLimit": 10000
     },
     "inputWidgets": {},
     "nuid": "d2689e3f-710e-4a3e-9d6a-8859ba3f64ea",
     "showTitle": false,
     "tableResultSettingsMap": {},
     "title": ""
    }
   },
   "outputs": [
    {
     "output_type": "execute_result",
     "data": {
      "text/plain": [
       "DataFrame[num_affected_rows: bigint]"
      ]
     },
     "execution_count": 5,
     "metadata": {},
     "output_type": "execute_result"
    }
   ],
   "source": [
    "#Realizar corrección en id. factura \"20230000005\", cambiar producto \"Bolsa diseño orangutanes\", por \"Bolsa diseño serpiente\" con id_producto \"101000003\". \n",
    "\n",
    "from delta.tables import DeltaTable\n",
    "\n",
    "# Ruta de la tabla Delta\n",
    "path = \"/mnt/delta/ventas\"\n",
    "\n",
    "# Cargar la tabla Delta\n",
    "delta_ventas = DeltaTable.forPath(spark, path)\n",
    "\n",
    "# Actualizar múltiples columnas bajo una condición\n",
    "delta_ventas.update(\n",
    "    condition=\"id_factura = 20230000005 AND categoria_producto = 'Animales'\",\n",
    "    set={\n",
    "        \"nombre_producto\": \"'Bolsa diseño serpiente'\",\n",
    "        \"id_producto\": \"'101000003'\"\n",
    "    }\n",
    ")"
   ]
  },
  {
   "cell_type": "code",
   "execution_count": 0,
   "metadata": {
    "application/vnd.databricks.v1+cell": {
     "cellMetadata": {
      "byteLimit": 2048000,
      "rowLimit": 10000
     },
     "inputWidgets": {},
     "nuid": "cc3d721f-0a67-4666-8114-5d11be8170c5",
     "showTitle": false,
     "tableResultSettingsMap": {},
     "title": ""
    }
   },
   "outputs": [
    {
     "output_type": "display_data",
     "data": {
      "text/html": [
       "<style scoped>\n",
       "  .table-result-container {\n",
       "    max-height: 300px;\n",
       "    overflow: auto;\n",
       "  }\n",
       "  table, th, td {\n",
       "    border: 1px solid black;\n",
       "    border-collapse: collapse;\n",
       "  }\n",
       "  th, td {\n",
       "    padding: 5px;\n",
       "  }\n",
       "  th {\n",
       "    text-align: left;\n",
       "  }\n",
       "</style><div class='table-result-container'><table class='table-result'><thead style='background-color: white'><tr><th>id</th><th>id_producto</th><th>categoria_producto</th><th>nombre_producto</th><th>precio_producto</th><th>id_factura</th><th>cantidad</th><th>total</th><th>metodo_pago</th><th>fecha_factura</th><th>id_cliente</th><th>ciudad</th><th>gastos_marketing_og</th></tr></thead><tbody><tr><td>1</td><td>101000003</td><td>Animales</td><td>Bolsa diseño serpiente</td><td>50000</td><td>20230000005</td><td>10</td><td>500000</td><td>Tarjeta debito</td><td>20230110</td><td>1000004</td><td>Bucaramanga</td><td>64865</td></tr></tbody></table></div>"
      ]
     },
     "metadata": {
      "application/vnd.databricks.v1+output": {
       "addedWidgets": {},
       "aggData": [],
       "aggError": "",
       "aggOverflow": false,
       "aggSchema": [],
       "aggSeriesLimitReached": false,
       "aggType": "",
       "arguments": {},
       "columnCustomDisplayInfos": {},
       "data": [
        [
         1,
         101000003,
         "Animales",
         "Bolsa diseño serpiente",
         50000,
         20230000005,
         10,
         500000,
         "Tarjeta debito",
         20230110,
         1000004,
         "Bucaramanga",
         64865
        ]
       ],
       "datasetInfos": [],
       "dbfsResultPath": null,
       "isJsonSchema": true,
       "metadata": {},
       "overflow": false,
       "plotOptions": {
        "customPlotOptions": {},
        "displayType": "table",
        "pivotAggregation": null,
        "pivotColumns": null,
        "xColumns": null,
        "yColumns": null
       },
       "removedWidgets": [],
       "schema": [
        {
         "metadata": "{}",
         "name": "id",
         "type": "\"integer\""
        },
        {
         "metadata": "{}",
         "name": "id_producto",
         "type": "\"integer\""
        },
        {
         "metadata": "{}",
         "name": "categoria_producto",
         "type": "\"string\""
        },
        {
         "metadata": "{}",
         "name": "nombre_producto",
         "type": "\"string\""
        },
        {
         "metadata": "{}",
         "name": "precio_producto",
         "type": "\"integer\""
        },
        {
         "metadata": "{}",
         "name": "id_factura",
         "type": "\"long\""
        },
        {
         "metadata": "{}",
         "name": "cantidad",
         "type": "\"integer\""
        },
        {
         "metadata": "{}",
         "name": "total",
         "type": "\"integer\""
        },
        {
         "metadata": "{}",
         "name": "metodo_pago",
         "type": "\"string\""
        },
        {
         "metadata": "{}",
         "name": "fecha_factura",
         "type": "\"integer\""
        },
        {
         "metadata": "{}",
         "name": "id_cliente",
         "type": "\"integer\""
        },
        {
         "metadata": "{}",
         "name": "ciudad",
         "type": "\"string\""
        },
        {
         "metadata": "{}",
         "name": "gastos_marketing_og",
         "type": "\"integer\""
        }
       ],
       "type": "table"
      }
     },
     "output_type": "display_data"
    }
   ],
   "source": [
    "#Ver el cambio realizado\n",
    "\n",
    "spark.sql(\"\"\"\n",
    "SELECT *\n",
    "FROM delta.`/mnt/delta/ventas`\n",
    "WHERE id_factura = 20230000005 AND categoria_producto = 'Animales'\n",
    "\"\"\").display()"
   ]
  },
  {
   "cell_type": "code",
   "execution_count": 0,
   "metadata": {
    "application/vnd.databricks.v1+cell": {
     "cellMetadata": {
      "byteLimit": 2048000,
      "rowLimit": 10000
     },
     "inputWidgets": {},
     "nuid": "8034c7c9-cd5a-4516-aa14-4612414b2ea9",
     "showTitle": false,
     "tableResultSettingsMap": {},
     "title": ""
    }
   },
   "outputs": [
    {
     "output_type": "display_data",
     "data": {
      "text/html": [
       "<style scoped>\n",
       "  .table-result-container {\n",
       "    max-height: 300px;\n",
       "    overflow: auto;\n",
       "  }\n",
       "  table, th, td {\n",
       "    border: 1px solid black;\n",
       "    border-collapse: collapse;\n",
       "  }\n",
       "  th, td {\n",
       "    padding: 5px;\n",
       "  }\n",
       "  th {\n",
       "    text-align: left;\n",
       "  }\n",
       "</style><div class='table-result-container'><table class='table-result'><thead style='background-color: white'><tr><th>version</th><th>timestamp</th><th>userId</th><th>userName</th><th>operation</th><th>operationParameters</th><th>job</th><th>notebook</th><th>clusterId</th><th>readVersion</th><th>isolationLevel</th><th>isBlindAppend</th><th>operationMetrics</th><th>userMetadata</th><th>engineInfo</th></tr></thead><tbody><tr><td>4</td><td>2025-06-30T20:48:40Z</td><td>993783110248991</td><td>diseno360.com@outlook.com</td><td>UPDATE</td><td>Map(predicate -> [\"((id_factura#699L = 20230000005) AND (categoria_producto#696 = Animales))\"])</td><td>null</td><td>List(682610284294241)</td><td>0612-144113-gjpgyym</td><td>3</td><td>WriteSerializable</td><td>false</td><td>Map(numRemovedFiles -> 0, numRemovedBytes -> 0, numCopiedRows -> 0, numDeletionVectorsAdded -> 1, numDeletionVectorsRemoved -> 0, numAddedChangeFiles -> 0, executionTimeMs -> 8049, numDeletionVectorsUpdated -> 0, scanTimeMs -> 4896, numAddedFiles -> 1, numUpdatedRows -> 1, numAddedBytes -> 3264, rewriteTimeMs -> 3067)</td><td>null</td><td>Databricks-Runtime/15.4.x-photon-scala2.12</td></tr><tr><td>3</td><td>2025-06-30T20:48:17Z</td><td>993783110248991</td><td>diseno360.com@outlook.com</td><td>WRITE</td><td>Map(mode -> Overwrite, statsOnLoad -> false, partitionBy -> [])</td><td>null</td><td>List(682610284294241)</td><td>0612-144113-gjpgyym</td><td>2</td><td>WriteSerializable</td><td>false</td><td>Map(numFiles -> 1, numOutputRows -> 58, numOutputBytes -> 5308)</td><td>null</td><td>Databricks-Runtime/15.4.x-photon-scala2.12</td></tr><tr><td>2</td><td>2025-06-24T17:31:45Z</td><td>993783110248991</td><td>diseno360.com@outlook.com</td><td>UPDATE</td><td>Map(predicate -> [\"((id_factura#207L = 20230000005) AND (categoria_producto#204 = Animales))\"])</td><td>null</td><td>List(682610284294241)</td><td>0612-144113-gjpgyym</td><td>1</td><td>WriteSerializable</td><td>false</td><td>Map(numRemovedFiles -> 0, numRemovedBytes -> 0, numCopiedRows -> 0, numDeletionVectorsAdded -> 1, numDeletionVectorsRemoved -> 0, numAddedChangeFiles -> 0, executionTimeMs -> 22422, numDeletionVectorsUpdated -> 0, scanTimeMs -> 15024, numAddedFiles -> 1, numUpdatedRows -> 1, numAddedBytes -> 3264, rewriteTimeMs -> 7263)</td><td>null</td><td>Databricks-Runtime/15.4.x-photon-scala2.12</td></tr><tr><td>1</td><td>2025-06-24T15:59:14Z</td><td>993783110248991</td><td>diseno360.com@outlook.com</td><td>WRITE</td><td>Map(mode -> Overwrite, statsOnLoad -> false, partitionBy -> [])</td><td>null</td><td>List(682610284294241)</td><td>0612-144113-gjpgyym</td><td>0</td><td>WriteSerializable</td><td>false</td><td>Map(numFiles -> 1, numOutputRows -> 58, numOutputBytes -> 5308)</td><td>null</td><td>Databricks-Runtime/15.4.x-photon-scala2.12</td></tr><tr><td>0</td><td>2025-06-24T15:38:33Z</td><td>993783110248991</td><td>diseno360.com@outlook.com</td><td>WRITE</td><td>Map(mode -> ErrorIfExists, statsOnLoad -> false, partitionBy -> [])</td><td>null</td><td>List(682610284294241)</td><td>0612-144113-gjpgyym</td><td>null</td><td>WriteSerializable</td><td>true</td><td>Map(numFiles -> 1, numOutputRows -> 58, numOutputBytes -> 5308)</td><td>null</td><td>Databricks-Runtime/15.4.x-photon-scala2.12</td></tr></tbody></table></div>"
      ]
     },
     "metadata": {
      "application/vnd.databricks.v1+output": {
       "addedWidgets": {},
       "aggData": [],
       "aggError": "",
       "aggOverflow": false,
       "aggSchema": [],
       "aggSeriesLimitReached": false,
       "aggType": "",
       "arguments": {},
       "columnCustomDisplayInfos": {},
       "data": [
        [
         4,
         "2025-06-30T20:48:40Z",
         "993783110248991",
         "diseno360.com@outlook.com",
         "UPDATE",
         {
          "predicate": "[\"((id_factura#699L = 20230000005) AND (categoria_producto#696 = Animales))\"]"
         },
         null,
         [
          "682610284294241"
         ],
         "0612-144113-gjpgyym",
         3,
         "WriteSerializable",
         false,
         {
          "executionTimeMs": "8049",
          "numAddedBytes": "3264",
          "numAddedChangeFiles": "0",
          "numAddedFiles": "1",
          "numCopiedRows": "0",
          "numDeletionVectorsAdded": "1",
          "numDeletionVectorsRemoved": "0",
          "numDeletionVectorsUpdated": "0",
          "numRemovedBytes": "0",
          "numRemovedFiles": "0",
          "numUpdatedRows": "1",
          "rewriteTimeMs": "3067",
          "scanTimeMs": "4896"
         },
         null,
         "Databricks-Runtime/15.4.x-photon-scala2.12"
        ],
        [
         3,
         "2025-06-30T20:48:17Z",
         "993783110248991",
         "diseno360.com@outlook.com",
         "WRITE",
         {
          "mode": "Overwrite",
          "partitionBy": "[]",
          "statsOnLoad": "false"
         },
         null,
         [
          "682610284294241"
         ],
         "0612-144113-gjpgyym",
         2,
         "WriteSerializable",
         false,
         {
          "numFiles": "1",
          "numOutputBytes": "5308",
          "numOutputRows": "58"
         },
         null,
         "Databricks-Runtime/15.4.x-photon-scala2.12"
        ],
        [
         2,
         "2025-06-24T17:31:45Z",
         "993783110248991",
         "diseno360.com@outlook.com",
         "UPDATE",
         {
          "predicate": "[\"((id_factura#207L = 20230000005) AND (categoria_producto#204 = Animales))\"]"
         },
         null,
         [
          "682610284294241"
         ],
         "0612-144113-gjpgyym",
         1,
         "WriteSerializable",
         false,
         {
          "executionTimeMs": "22422",
          "numAddedBytes": "3264",
          "numAddedChangeFiles": "0",
          "numAddedFiles": "1",
          "numCopiedRows": "0",
          "numDeletionVectorsAdded": "1",
          "numDeletionVectorsRemoved": "0",
          "numDeletionVectorsUpdated": "0",
          "numRemovedBytes": "0",
          "numRemovedFiles": "0",
          "numUpdatedRows": "1",
          "rewriteTimeMs": "7263",
          "scanTimeMs": "15024"
         },
         null,
         "Databricks-Runtime/15.4.x-photon-scala2.12"
        ],
        [
         1,
         "2025-06-24T15:59:14Z",
         "993783110248991",
         "diseno360.com@outlook.com",
         "WRITE",
         {
          "mode": "Overwrite",
          "partitionBy": "[]",
          "statsOnLoad": "false"
         },
         null,
         [
          "682610284294241"
         ],
         "0612-144113-gjpgyym",
         0,
         "WriteSerializable",
         false,
         {
          "numFiles": "1",
          "numOutputBytes": "5308",
          "numOutputRows": "58"
         },
         null,
         "Databricks-Runtime/15.4.x-photon-scala2.12"
        ],
        [
         0,
         "2025-06-24T15:38:33Z",
         "993783110248991",
         "diseno360.com@outlook.com",
         "WRITE",
         {
          "mode": "ErrorIfExists",
          "partitionBy": "[]",
          "statsOnLoad": "false"
         },
         null,
         [
          "682610284294241"
         ],
         "0612-144113-gjpgyym",
         null,
         "WriteSerializable",
         true,
         {
          "numFiles": "1",
          "numOutputBytes": "5308",
          "numOutputRows": "58"
         },
         null,
         "Databricks-Runtime/15.4.x-photon-scala2.12"
        ]
       ],
       "datasetInfos": [],
       "dbfsResultPath": null,
       "isJsonSchema": true,
       "metadata": {},
       "overflow": false,
       "plotOptions": {
        "customPlotOptions": {},
        "displayType": "table",
        "pivotAggregation": null,
        "pivotColumns": null,
        "xColumns": null,
        "yColumns": null
       },
       "removedWidgets": [],
       "schema": [
        {
         "metadata": "{}",
         "name": "version",
         "type": "\"long\""
        },
        {
         "metadata": "{}",
         "name": "timestamp",
         "type": "\"timestamp\""
        },
        {
         "metadata": "{}",
         "name": "userId",
         "type": "\"string\""
        },
        {
         "metadata": "{}",
         "name": "userName",
         "type": "\"string\""
        },
        {
         "metadata": "{}",
         "name": "operation",
         "type": "\"string\""
        },
        {
         "metadata": "{}",
         "name": "operationParameters",
         "type": "{\"type\":\"map\",\"keyType\":\"string\",\"valueType\":\"string\",\"valueContainsNull\":true}"
        },
        {
         "metadata": "{}",
         "name": "job",
         "type": "{\"type\":\"struct\",\"fields\":[{\"name\":\"jobId\",\"type\":\"string\",\"nullable\":true,\"metadata\":{}},{\"name\":\"jobName\",\"type\":\"string\",\"nullable\":true,\"metadata\":{}},{\"name\":\"jobRunId\",\"type\":\"string\",\"nullable\":true,\"metadata\":{}},{\"name\":\"runId\",\"type\":\"string\",\"nullable\":true,\"metadata\":{}},{\"name\":\"jobOwnerId\",\"type\":\"string\",\"nullable\":true,\"metadata\":{}},{\"name\":\"triggerType\",\"type\":\"string\",\"nullable\":true,\"metadata\":{}}]}"
        },
        {
         "metadata": "{}",
         "name": "notebook",
         "type": "{\"type\":\"struct\",\"fields\":[{\"name\":\"notebookId\",\"type\":\"string\",\"nullable\":true,\"metadata\":{}}]}"
        },
        {
         "metadata": "{}",
         "name": "clusterId",
         "type": "\"string\""
        },
        {
         "metadata": "{}",
         "name": "readVersion",
         "type": "\"long\""
        },
        {
         "metadata": "{}",
         "name": "isolationLevel",
         "type": "\"string\""
        },
        {
         "metadata": "{}",
         "name": "isBlindAppend",
         "type": "\"boolean\""
        },
        {
         "metadata": "{}",
         "name": "operationMetrics",
         "type": "{\"type\":\"map\",\"keyType\":\"string\",\"valueType\":\"string\",\"valueContainsNull\":true}"
        },
        {
         "metadata": "{}",
         "name": "userMetadata",
         "type": "\"string\""
        },
        {
         "metadata": "{}",
         "name": "engineInfo",
         "type": "\"string\""
        }
       ],
       "type": "table"
      }
     },
     "output_type": "display_data"
    }
   ],
   "source": [
    "#historial de cambios\n",
    "\n",
    "delta_ventas = DeltaTable.forPath(spark, \"/mnt/delta/ventas\")\n",
    "delta_ventas.history().display()"
   ]
  },
  {
   "cell_type": "code",
   "execution_count": 0,
   "metadata": {
    "application/vnd.databricks.v1+cell": {
     "cellMetadata": {
      "byteLimit": 2048000,
      "rowLimit": 10000
     },
     "inputWidgets": {},
     "nuid": "f4f0f4d5-c64e-47dc-b4f0-197a8b15bfb8",
     "showTitle": false,
     "tableResultSettingsMap": {},
     "title": ""
    }
   },
   "outputs": [],
   "source": [
    "# Registrar la tabla Delta como tabla en el metastore\n",
    "\n",
    "# Cargar el DataFrame desde el Delta Lake\n",
    "df_ventas = spark.read.format(\"delta\").load(\"/mnt/delta/ventas\")\n",
    "\n",
    "# Guardar la tabla en el metastore de Hive (catálogo de Databricks)\n",
    "df_ventas.write.format(\"delta\").mode(\"overwrite\").saveAsTable(\"ventas\")"
   ]
  },
  {
   "cell_type": "markdown",
   "metadata": {
    "application/vnd.databricks.v1+cell": {
     "cellMetadata": {},
     "inputWidgets": {},
     "nuid": "c0f97b5f-3cd8-4fee-a907-68679057bb1c",
     "showTitle": false,
     "tableResultSettingsMap": {},
     "title": ""
    }
   },
   "source": [
    " **III. Conectar Databricks a Power BI Desktop**"
   ]
  },
  {
   "cell_type": "markdown",
   "metadata": {
    "application/vnd.databricks.v1+cell": {
     "cellMetadata": {},
     "inputWidgets": {},
     "nuid": "21451dde-266c-45a1-8d72-26b3b41ed609",
     "showTitle": false,
     "tableResultSettingsMap": {},
     "title": ""
    }
   },
   "source": [
    "Hay dos métodos de conexión de databricks con Power BI Desktop: \n",
    "\n",
    "1. ODBC (Conectividad Abierta de Bases de Datos)\n",
    "2. DirectQuery (lectura directa)"
   ]
  },
  {
   "cell_type": "markdown",
   "metadata": {
    "application/vnd.databricks.v1+cell": {
     "cellMetadata": {},
     "inputWidgets": {},
     "nuid": "e3e27065-ad96-4aae-ab04-2af06fc91318",
     "showTitle": false,
     "tableResultSettingsMap": {},
     "title": ""
    }
   },
   "source": [
    "**1. ODBC (Conectividad Abierta de Bases de Datos)**\n",
    "\n",
    "Es un estándar de interfaz que permite a aplicaciones (como Power BI, Excel, o Python) conectarse y comunicarse con diferentes sistemas de bases de datos (como SQL Server, PostgreSQL, MySQL, Databricks, etc.), independientemente del motor de base de datos que uses. Con este método se importan los datos a Power BI y este crea una copia de estos en tu máquina local con extensión .pbix.\n",
    "\n",
    "La ventaja principal consultas y visualizaciones rápidas, porque están en memoria local y su desventaja; si los datos cambian en Databricks, necesita recargar o refrescar manualmente. Es posible que no se puedan importar tablas tan grandes.\n",
    "\n",
    "Requisitos:\n",
    "\n",
    "- Power BI Desktop instalado\n",
    "\n",
    "- Driver ODBC de Databricks instalado ([versiones](https://www.databricks.com/spark/odbc-drivers-download))\n",
    "\n",
    "- Token de acceso personal (PAT) desde tu cuenta de Databricks:\n",
    "    Ir al espacio de trabajo en Databricks.\n",
    "    Haz clic en tu nombre (esquina superior derecha)\n",
    "    Seleccionar \"Ajustes\" -> desarrollador -> Tókenes de acceso -> Generar nuevo token\n",
    "    Cópialo y guárdalo.\n",
    "\n"
   ]
  },
  {
   "cell_type": "markdown",
   "metadata": {
    "application/vnd.databricks.v1+cell": {
     "cellMetadata": {},
     "inputWidgets": {},
     "nuid": "05739ba8-4566-4c51-8066-58862b7ad0a5",
     "showTitle": false,
     "tableResultSettingsMap": {},
     "title": ""
    }
   },
   "source": [
    "\n",
    "1.1 Ir a inicio y en obtener datos de otros orígenes seleccionar ODBC y dar clic en conectar.\n",
    "\n",
    "![Imagen](https://raw.githubusercontent.com/DianaGarcesPortilla/ETL-Storage_Databricks_PowerBI/main/image01.png)\n"
   ]
  },
  {
   "cell_type": "markdown",
   "metadata": {
    "application/vnd.databricks.v1+cell": {
     "cellMetadata": {},
     "inputWidgets": {},
     "nuid": "3e8668c7-2406-48d8-9538-702e800cb9e7",
     "showTitle": false,
     "tableResultSettingsMap": {},
     "title": ""
    }
   },
   "source": [
    "1.2 Seleccionar el nombre de la fuente de datos.\n",
    "\n",
    "![Imagen](https://raw.githubusercontent.com/DianaGarcesPortilla/ETL-Storage_Databricks_PowerBI/main/image02.png)\n",
    "\n"
   ]
  },
  {
   "cell_type": "markdown",
   "metadata": {
    "application/vnd.databricks.v1+cell": {
     "cellMetadata": {
      "byteLimit": 2048000,
      "rowLimit": 10000
     },
     "inputWidgets": {},
     "nuid": "055b9fe9-65b9-4cc7-a18d-85f3cf919e62",
     "showTitle": false,
     "tableResultSettingsMap": {},
     "title": ""
    }
   },
   "source": [
    "1.3 Se accede al catálogo de databricks, dar clic en el catálogo donde se encuentra la tabla 'ventas' en este caso 'databricks_dc_diana'. Seleccionar la tabla y en la parte inferior derecha dar clic en cargar.\n",
    "\n",
    "![Imagen](https://raw.githubusercontent.com/DianaGarcesPortilla/ETL-Storage_Databricks_PowerBI/main/image03.png)\n",
    "\n",
    "Se han importado los datos exitosamente. En el repositorio 'Power-BI' se encuentra el dashboard con los KPI's y el informe trimestral de ventas de ilevo [clic](https://github.com/DianaGarcesPortilla/Porwer-BI).\n"
   ]
  },
  {
   "cell_type": "markdown",
   "metadata": {
    "application/vnd.databricks.v1+cell": {
     "cellMetadata": {},
     "inputWidgets": {},
     "nuid": "e4131b78-2850-4696-bd5e-e9d09e8da919",
     "showTitle": false,
     "tableResultSettingsMap": {},
     "title": ""
    }
   },
   "source": [
    "**2. DirectQuery (lectura directa)**\n",
    "\n",
    "Por este método los datos quedan en la nube, cada vez que se hace una visualización Power BI envía una consulta en tiempo real a Databricks.\n",
    "\n",
    "Es ideal para datos muy grandes que no caben en la memoria local. Su conexión puede ser más lenta porque depende del rendimiento de la red y del clúster. Y algunas funciones de Power BI están limitadas.\n",
    "\n",
    "\n"
   ]
  },
  {
   "cell_type": "markdown",
   "metadata": {
    "application/vnd.databricks.v1+cell": {
     "cellMetadata": {},
     "inputWidgets": {},
     "nuid": "aff4c2f7-b2f8-4d64-9d7a-ac6fee995b46",
     "showTitle": false,
     "tableResultSettingsMap": {},
     "title": ""
    }
   },
   "source": [
    "2.1 Ir a inicio y en obtener datos de otros orígenes seleccionar Azure Databricks.\n",
    "\n",
    "![Imagen](https://raw.githubusercontent.com/DianaGarcesPortilla/ETL-Storage_Databricks_PowerBI/main/image04.png)"
   ]
  },
  {
   "cell_type": "markdown",
   "metadata": {
    "application/vnd.databricks.v1+cell": {
     "cellMetadata": {},
     "inputWidgets": {},
     "nuid": "caa1f344-59cc-4df0-af72-9bfdaf57af99",
     "showTitle": false,
     "tableResultSettingsMap": {},
     "title": ""
    }
   },
   "source": [
    "2.2 Registrar el **nombre de acceso al servidor** que se encuentra en la barra de dirreciones cuando se abre el área de trabajo de Databricks. **La ruta de acceso HTTP** la cual esta en el menú izquierdo de Databricks, computo -> cluster definido -> Avanzado -> JDBC/ODBC -> HTTP. Seleccionar **DirectQuery**. Aceptar.\n",
    "\n",
    "![Imagen](https://raw.githubusercontent.com/DianaGarcesPortilla/ETL-Storage_Databricks_PowerBI/main/image05.png)\n",
    "\n",
    "\n",
    "\n"
   ]
  },
  {
   "cell_type": "markdown",
   "metadata": {
    "application/vnd.databricks.v1+cell": {
     "cellMetadata": {},
     "inputWidgets": {},
     "nuid": "44b15561-6ab6-4b10-b129-e0ef007c4a4b",
     "showTitle": false,
     "tableResultSettingsMap": {},
     "title": ""
    }
   },
   "source": [
    "2.3 Iniciar sesión.\n",
    "\n",
    "![Imagen](https://raw.githubusercontent.com/DianaGarcesPortilla/ETL-Storage_Databricks_PowerBI/main/image06.png)\n",
    "\n"
   ]
  },
  {
   "cell_type": "markdown",
   "metadata": {
    "application/vnd.databricks.v1+cell": {
     "cellMetadata": {},
     "inputWidgets": {},
     "nuid": "ee0490ef-8fec-4dc4-809c-d9ce4788b5ab",
     "showTitle": false,
     "tableResultSettingsMap": {},
     "title": ""
    }
   },
   "source": [
    "2.4 Ingresar contraseña y seguido el código de verificación.\n",
    "\n",
    "![Imagen](https://raw.githubusercontent.com/DianaGarcesPortilla/ETL-Storage_Databricks_PowerBI/main/image07.png)\n",
    "\n",
    "Se han importado los datos exitosamente. En el repositorio 'Power-BI' se encuentra el dashboard con los KPI's y el informe trimestral de ventas de ilevo [clic](https://github.com/DianaGarcesPortilla/Porwer-BI).\n"
   ]
  },
  {
   "cell_type": "markdown",
   "metadata": {
    "application/vnd.databricks.v1+cell": {
     "cellMetadata": {},
     "inputWidgets": {},
     "nuid": "4bd3e2f5-516a-4465-9dc7-fbdc197a30fe",
     "showTitle": false,
     "tableResultSettingsMap": {},
     "title": ""
    }
   },
   "source": []
  },
  {
   "cell_type": "markdown",
   "metadata": {
    "application/vnd.databricks.v1+cell": {
     "cellMetadata": {},
     "inputWidgets": {},
     "nuid": "f2ae98c2-8ddb-4cfe-a56e-83f79965ee8b",
     "showTitle": false,
     "tableResultSettingsMap": {},
     "title": ""
    }
   },
   "source": []
  },
  {
   "cell_type": "markdown",
   "metadata": {
    "application/vnd.databricks.v1+cell": {
     "cellMetadata": {},
     "inputWidgets": {},
     "nuid": "81d71161-41cf-4115-9edc-9b188e864c22",
     "showTitle": false,
     "tableResultSettingsMap": {},
     "title": ""
    }
   },
   "source": []
  }
 ],
 "metadata": {
  "application/vnd.databricks.v1+notebook": {
   "computePreferences": null,
   "dashboards": [],
   "environmentMetadata": {
    "base_environment": "",
    "environment_version": "2"
   },
   "inputWidgetPreferences": null,
   "language": "python",
   "notebookMetadata": {
    "pythonIndentUnit": 4
   },
   "notebookName": "ventas_integracionBI",
   "widgets": {}
  },
  "language_info": {
   "name": "python"
  }
 },
 "nbformat": 4,
 "nbformat_minor": 0
}